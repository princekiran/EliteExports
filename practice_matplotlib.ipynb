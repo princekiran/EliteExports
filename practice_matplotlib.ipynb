{
  "nbformat": 4,
  "nbformat_minor": 0,
  "metadata": {
    "colab": {
      "name": "Hello, Colaboratory",
      "version": "0.3.2",
      "provenance": [],
      "collapsed_sections": [],
      "include_colab_link": true
    },
    "kernelspec": {
      "display_name": "Python 3",
      "name": "python3"
    }
  },
  "cells": [
    {
      "cell_type": "markdown",
      "metadata": {
        "id": "view-in-github",
        "colab_type": "text"
      },
      "source": [
        "<a href=\"https://colab.research.google.com/github/princekiran/EliteExports/blob/master/practice_matplotlib.ipynb\" target=\"_parent\"><img src=\"https://colab.research.google.com/assets/colab-badge.svg\" alt=\"Open In Colab\"/></a>"
      ]
    },
    {
      "metadata": {
        "id": "nrit_PxDOdZB",
        "colab_type": "code",
        "outputId": "7e488ef1-9115-4fca-ffa7-a970b0913563",
        "colab": {
          "base_uri": "https://localhost:8080/",
          "height": 493
        }
      },
      "cell_type": "code",
      "source": [
        "import requests\n",
        "from bs4 import BeautifulSoup\n",
        "from pprint import pprint as pp\n",
        "link = 'http://quotes.toscrape.com/'\n",
        "\n",
        "text = []\n",
        "person = []\n",
        "href = []\n",
        "\n",
        "\n",
        "html = requests.get(link)\n",
        "\n",
        "soup = BeautifulSoup(html.text)\n",
        "quotes = soup.find_all(class_='quote')\n",
        "for i in range(len(quotes)):\n",
        "  href.append(quotes[i].find('a').attrs['href'])\n",
        "  text.append(quotes[i].find('span').text)\n",
        "  person.append(quotes[i].find('small').text)\n",
        "  \n",
        "i = 0\n",
        "while True:\n",
        "  print('Hi Welcome to beautiful guessing Game: \\nGuess the author who wrote \\\n",
        "  the below line')\n",
        "  print(text[i])\n",
        "  for j in range(4):\n",
        "    print(f'You have {4-j} remaining guesses')\n",
        "    guess = input(\"Please enter your guess: \")\n",
        "    if guess == person[i]:\n",
        "      print('Super you guessed it correctly.')\n",
        "      s = input('Do you want to continue the game. (y/n) ?')\n",
        "      if s == 'y':\n",
        "        i += 1\n",
        "        continue\n",
        "      else:\n",
        "        break\n",
        "  print('You gussed it wrong and out of guesses :( .)')\n",
        "  k = input('Do you want to continue the game. (y/n) ?')\n",
        "  if k == 'y':\n",
        "    i += 1\n",
        "    True\n",
        "  else:\n",
        "    break\n",
        "  \n",
        "  \n"
      ],
      "execution_count": 80,
      "outputs": [
        {
          "output_type": "stream",
          "text": [
            "Hi Welcome to beautiful guessing Game: \n",
            "Guess the author who wrote   the below line\n",
            "“The world as we have created it is a process of our thinking. It cannot be changed without changing our thinking.”\n",
            "You have 4 remaining guesses\n",
            "Please enter your guess: fdfdf\n",
            "You have 3 remaining guesses\n",
            "Please enter your guess: dfdf\n",
            "You have 2 remaining guesses\n",
            "Please enter your guess: dfsdf\n",
            "You have 1 remaining guesses\n",
            "Please enter your guess: sdfsd\n",
            "You gussed it wrong and out of guesses :( .)\n",
            "Do you want to continue the game. (y/n) ?y\n",
            "Hi Welcome to beautiful guessing Game: \n",
            "Guess the author who wrote   the below line\n",
            "“It is our choices, Harry, that show what we truly are, far more than our abilities.”\n",
            "You have 4 remaining guesses\n",
            "Please enter your guess: J.K. Rowling\n",
            "Super you guessed it correctly.\n",
            "Do you want to continue the game. (y/n) ?y\n",
            "You have 3 remaining guesses\n",
            "Please enter your guess: sdf\n",
            "You have 2 remaining guesses\n",
            "Please enter your guess: J.K. Rowling\n",
            "You have 1 remaining guesses\n",
            "Please enter your guess: sdf\n",
            "You gussed it wrong and out of guesses :( .)\n",
            "Do you want to continue the game. (y/n) ?n\n"
          ],
          "name": "stdout"
        }
      ]
    },
    {
      "metadata": {
        "id": "nVIKTkivOmch",
        "colab_type": "code",
        "outputId": "55317524-3546-4495-c665-8c8bfe9eaf8c",
        "colab": {
          "base_uri": "https://localhost:8080/",
          "height": 34
        }
      },
      "cell_type": "code",
      "source": [
        ""
      ],
      "execution_count": 0,
      "outputs": [
        {
          "output_type": "execute_result",
          "data": {
            "text/plain": [
              "array([False,  True,  True,  True])"
            ]
          },
          "metadata": {
            "tags": []
          },
          "execution_count": 7
        }
      ]
    }
  ]
}
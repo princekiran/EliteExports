{
  "nbformat": 4,
  "nbformat_minor": 0,
  "metadata": {
    "colab": {
      "name": "Hello, Colaboratory",
      "version": "0.3.2",
      "provenance": [],
      "collapsed_sections": [],
      "include_colab_link": true
    },
    "kernelspec": {
      "display_name": "Python 3",
      "name": "python3"
    }
  },
  "cells": [
    {
      "cell_type": "markdown",
      "metadata": {
        "id": "view-in-github",
        "colab_type": "text"
      },
      "source": [
        "<a href=\"https://colab.research.google.com/github/princekiran/EliteExports/blob/master/practice_matplotlib.ipynb\" target=\"_parent\"><img src=\"https://colab.research.google.com/assets/colab-badge.svg\" alt=\"Open In Colab\"/></a>"
      ]
    },
    {
      "metadata": {
        "id": "nrit_PxDOdZB",
        "colab_type": "code",
        "outputId": "f1eaa9c1-3638-46d9-de78-66d7a7a48564",
        "colab": {
          "base_uri": "https://localhost:8080/",
          "height": 187
        }
      },
      "cell_type": "code",
      "source": [
        "import requests\n",
        "from bs4 import BeautifulSoup\n",
        "from pprint import pprint as pp\n",
        "link = 'http://quotes.toscrape.com/'\n",
        "\n",
        "text = []\n",
        "person = []\n",
        "href = []\n",
        "\n",
        "\n",
        "html = requests.get(link)\n",
        "\n",
        "soup = BeautifulSoup(html.text)\n",
        "quotes = soup.find_all(class_='quote')\n",
        "for i in range(len(quotes)):\n",
        "  href.append(quotes[i].find('a').attrs['href'])\n",
        "  text.append(quotes[i].find('span').text)\n",
        "  person.append(quotes[i].find('small').text)\n",
        "  \n",
        "\n",
        "While True:\n",
        "  i = 0\n",
        "  print(text[i])\n",
        "  break\n",
        "  \n",
        "  \n"
      ],
      "execution_count": 68,
      "outputs": [
        {
          "output_type": "stream",
          "text": [
            "'/author/Albert-Einstein'\n",
            "'/author/J-K-Rowling'\n",
            "'/author/Albert-Einstein'\n",
            "'/author/Jane-Austen'\n",
            "'/author/Marilyn-Monroe'\n",
            "'/author/Albert-Einstein'\n",
            "'/author/Andre-Gide'\n",
            "'/author/Thomas-A-Edison'\n",
            "'/author/Eleanor-Roosevelt'\n",
            "'/author/Steve-Martin'\n"
          ],
          "name": "stdout"
        }
      ]
    },
    {
      "metadata": {
        "id": "nVIKTkivOmch",
        "colab_type": "code",
        "outputId": "55317524-3546-4495-c665-8c8bfe9eaf8c",
        "colab": {
          "base_uri": "https://localhost:8080/",
          "height": 34
        }
      },
      "cell_type": "code",
      "source": [
        ""
      ],
      "execution_count": 0,
      "outputs": [
        {
          "output_type": "execute_result",
          "data": {
            "text/plain": [
              "array([False,  True,  True,  True])"
            ]
          },
          "metadata": {
            "tags": []
          },
          "execution_count": 7
        }
      ]
    }
  ]
}
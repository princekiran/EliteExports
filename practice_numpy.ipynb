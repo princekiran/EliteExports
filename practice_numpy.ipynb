{
  "nbformat": 4,
  "nbformat_minor": 0,
  "metadata": {
    "colab": {
      "name": "practice numpy.ipynb",
      "version": "0.3.2",
      "provenance": [],
      "include_colab_link": true
    },
    "kernelspec": {
      "name": "python3",
      "display_name": "Python 3"
    }
  },
  "cells": [
    {
      "cell_type": "markdown",
      "metadata": {
        "id": "view-in-github",
        "colab_type": "text"
      },
      "source": [
        "[View in Colaboratory](https://colab.research.google.com/github/princekiran/EliteExports/blob/master/practice_numpy.ipynb)"
      ]
    },
    {
      "metadata": {
        "id": "u9hJQ6QHrWv5",
        "colab_type": "code",
        "colab": {
          "base_uri": "https://localhost:8080/",
          "height": 34
        },
        "outputId": "cc324d91-bbcd-4304-bd04-4849c7cd4fc8"
      },
      "cell_type": "code",
      "source": [
        "import numpy as np\n",
        "from pprint import pprint as pp\n",
        "np.__version__\n",
        "\n",
        "#each element in ndarray is an object of data-type object\n",
        "student = np.dtype([('name','S20'), ('age', 'b1'), ('marks', 'f4')]) \n",
        "a = np.array([('abc', 21, 50),('xyz', 18, 75)], dtype = student) \n",
        "print(a['age'],a['marks'])"
      ],
      "execution_count": 2,
      "outputs": [
        {
          "output_type": "stream",
          "text": [
            "[ True  True] [50. 75.]\n"
          ],
          "name": "stdout"
        }
      ]
    },
    {
      "metadata": {
        "id": "1YsTa-aL-qmq",
        "colab_type": "code",
        "colab": {
          "base_uri": "https://localhost:8080/",
          "height": 68
        },
        "outputId": "84a58a62-d026-4ed8-e46b-27bbc35bb425"
      },
      "cell_type": "code",
      "source": [
        "#To findout shape of the array\n",
        "k = np.array([[1,2,3],[4,5,6]])\n",
        "#ndarray.shape = This array attribute returns a tuple consisting of array \n",
        "#dimentions. It also used to resize the array.\n",
        "k.shape = (3,2)\n",
        "k\n",
        "'''\n",
        "'b' − boolean\n",
        "\n",
        "'i' − (signed) integer\n",
        "\n",
        "'u' − unsigned integer\n",
        "\n",
        "'f' − floating-point\n",
        "\n",
        "'c' − complex-floating point\n",
        "\n",
        "'m' − timedelta\n",
        "\n",
        "'M' − datetime\n",
        "\n",
        "'O' − (Python) objects\n",
        "\n",
        "'S', 'a' − (byte-)string\n",
        "\n",
        "'U' − Unicode\n",
        "\n",
        "'V' − raw data (void)'''"
      ],
      "execution_count": 0,
      "outputs": [
        {
          "output_type": "execute_result",
          "data": {
            "text/plain": [
              "array([[1, 2],\n",
              "       [3, 4],\n",
              "       [5, 6]])"
            ]
          },
          "metadata": {
            "tags": []
          },
          "execution_count": 2
        }
      ]
    },
    {
      "metadata": {
        "id": "QPe6Gw8xGRDK",
        "colab_type": "code",
        "colab": {
          "base_uri": "https://localhost:8080/",
          "height": 289
        },
        "outputId": "7e5e87ad-dc9b-48f8-9af7-6bbd55954a06"
      },
      "cell_type": "code",
      "source": [
        "a = np.arange(24)\n",
        "#ndim = This array attribute returns the number of array dimentions\n",
        "print(a.ndim)\n",
        "print(a.flags)\n",
        "# .itemsize = this array attribute returns lenght of each element in array\n",
        "# in bytes\n",
        "print(a.itemsize)\n",
        "#To reshape the array \n",
        "k = a.reshape(2,4,3)\n",
        "# .flags = It returns C,F,O,W,A,U\n",
        "k.flags"
      ],
      "execution_count": 0,
      "outputs": [
        {
          "output_type": "stream",
          "text": [
            "1\n",
            "  C_CONTIGUOUS : True\n",
            "  F_CONTIGUOUS : True\n",
            "  OWNDATA : True\n",
            "  WRITEABLE : True\n",
            "  ALIGNED : True\n",
            "  WRITEBACKIFCOPY : False\n",
            "  UPDATEIFCOPY : False\n",
            "8\n"
          ],
          "name": "stdout"
        },
        {
          "output_type": "execute_result",
          "data": {
            "text/plain": [
              "  C_CONTIGUOUS : True\n",
              "  F_CONTIGUOUS : False\n",
              "  OWNDATA : False\n",
              "  WRITEABLE : True\n",
              "  ALIGNED : True\n",
              "  WRITEBACKIFCOPY : False\n",
              "  UPDATEIFCOPY : False"
            ]
          },
          "metadata": {
            "tags": []
          },
          "execution_count": 4
        }
      ]
    },
    {
      "metadata": {
        "id": "C5CAmtfN_bRu",
        "colab_type": "code",
        "colab": {
          "base_uri": "https://localhost:8080/",
          "height": 153
        },
        "outputId": "baa9131b-5696-4327-baf8-0748e05e96c9"
      },
      "cell_type": "code",
      "source": [
        "#np.empty: It creates uninitialized array of specified shape and dtype\n",
        "a = np.empty([2,2], dtype = int)\n",
        "print(a)\n",
        "#np.zeros will returns specified array with all filled with zeros\n",
        "b = np.zeros([3,2],dtype=[('x','i4'),('y','i4')])\n",
        "print(b)\n",
        "#np.ones will returns specified array with all filled with zeros\n",
        "c = np.ones([3,2],dtype=[('x','i4'),('y','i4')])\n",
        "print(c)\n"
      ],
      "execution_count": 0,
      "outputs": [
        {
          "output_type": "stream",
          "text": [
            "[[1 1]\n",
            " [1 0]]\n",
            "[[(0, 0) (0, 0)]\n",
            " [(0, 0) (0, 0)]\n",
            " [(0, 0) (0, 0)]]\n",
            "[[(1, 1) (1, 1)]\n",
            " [(1, 1) (1, 1)]\n",
            " [(1, 1) (1, 1)]]\n"
          ],
          "name": "stdout"
        }
      ]
    },
    {
      "metadata": {
        "id": "8zc-BmF9B0Fw",
        "colab_type": "code",
        "colab": {
          "base_uri": "https://localhost:8080/",
          "height": 34
        },
        "outputId": "d88b03cf-3516-4999-c6e1-4e7f27c31358"
      },
      "cell_type": "code",
      "source": [
        "#np.asarray: It is equal to np.array except it has few parameters\n",
        "a = [1,2,3] # list\n",
        "c = [(4,5,6),(7,8)] # tuple\n",
        "b = np.asarray(a,dtype=bool)\n",
        "print(b)"
      ],
      "execution_count": 0,
      "outputs": [
        {
          "output_type": "stream",
          "text": [
            "[ True  True  True]\n"
          ],
          "name": "stdout"
        }
      ]
    },
    {
      "metadata": {
        "id": "ofZKUpvwu3Ew",
        "colab_type": "code",
        "colab": {
          "base_uri": "https://localhost:8080/",
          "height": 197
        },
        "outputId": "78ceb962-9ad7-4288-91f3-8fbd832fa580"
      },
      "cell_type": "code",
      "source": [
        "#np.frombuffer: This functions interprets a buffer as one-dimensional array.\n",
        "a = 'Hello kiran'\n",
        "b = np.frombuffer(a,dtype='S1')\n",
        "print(b)"
      ],
      "execution_count": 0,
      "outputs": [
        {
          "output_type": "error",
          "ename": "AttributeError",
          "evalue": "ignored",
          "traceback": [
            "\u001b[0;31m---------------------------------------------------------------------------\u001b[0m",
            "\u001b[0;31mAttributeError\u001b[0m                            Traceback (most recent call last)",
            "\u001b[0;32m<ipython-input-22-f429cd55430a>\u001b[0m in \u001b[0;36m<module>\u001b[0;34m()\u001b[0m\n\u001b[1;32m      1\u001b[0m \u001b[0ma\u001b[0m \u001b[0;34m=\u001b[0m \u001b[0;34m'Hello kiran'\u001b[0m\u001b[0;34m\u001b[0m\u001b[0m\n\u001b[0;32m----> 2\u001b[0;31m \u001b[0mb\u001b[0m \u001b[0;34m=\u001b[0m \u001b[0mnp\u001b[0m\u001b[0;34m.\u001b[0m\u001b[0mfrombuffer\u001b[0m\u001b[0;34m(\u001b[0m\u001b[0ma\u001b[0m\u001b[0;34m,\u001b[0m\u001b[0mdtype\u001b[0m\u001b[0;34m=\u001b[0m\u001b[0;34m'S1'\u001b[0m\u001b[0;34m)\u001b[0m\u001b[0;34m\u001b[0m\u001b[0m\n\u001b[0m\u001b[1;32m      3\u001b[0m \u001b[0mprint\u001b[0m\u001b[0;34m(\u001b[0m\u001b[0mb\u001b[0m\u001b[0;34m)\u001b[0m\u001b[0;34m\u001b[0m\u001b[0m\n",
            "\u001b[0;31mAttributeError\u001b[0m: 'str' object has no attribute '__buffer__'"
          ]
        }
      ]
    },
    {
      "metadata": {
        "id": "181fyRyt3b1S",
        "colab_type": "code",
        "colab": {
          "base_uri": "https://localhost:8080/",
          "height": 68
        },
        "outputId": "c9a681c5-7349-4ff8-de33-b5d17ff71361"
      },
      "cell_type": "code",
      "source": [
        "#np.fromiter : This function builds an ndarray object from any iter object\n",
        "a = range(10)\n",
        "print(a)\n",
        "b = iter(a)\n",
        "print(b)\n",
        "c = np.fromiter(b, dtype = int)\n",
        "print(c)"
      ],
      "execution_count": 0,
      "outputs": [
        {
          "output_type": "stream",
          "text": [
            "range(0, 10)\n",
            "<range_iterator object at 0x7fd2fc4e4de0>\n",
            "[0 1 2 3 4 5 6 7 8 9]\n"
          ],
          "name": "stdout"
        }
      ]
    },
    {
      "metadata": {
        "id": "xaQRf62G4LAY",
        "colab_type": "code",
        "colab": {
          "base_uri": "https://localhost:8080/",
          "height": 34
        },
        "outputId": "35beec95-9511-4832-8709-af26635b9d79"
      },
      "cell_type": "code",
      "source": [
        "#np.arange : This function returns an ndarray object containing evenly\n",
        "#spaced values within a given range\n",
        "\n",
        "a = np.arange(0,9,3,dtype=float)\n",
        "print(a)"
      ],
      "execution_count": 0,
      "outputs": [
        {
          "output_type": "stream",
          "text": [
            "[0. 3. 6.]\n"
          ],
          "name": "stdout"
        }
      ]
    },
    {
      "metadata": {
        "id": "C5PhzOZc5Frx",
        "colab_type": "code",
        "colab": {
          "base_uri": "https://localhost:8080/",
          "height": 51
        },
        "outputId": "95f486d5-b345-4258-f3e6-25ac4e3e1c41"
      },
      "cell_type": "code",
      "source": [
        "#np.linspace: It is same like arange but it returns even spaces\n",
        "\n",
        "a = np.linspace(0,9,8,retstep=True)\n",
        "print(a)"
      ],
      "execution_count": 0,
      "outputs": [
        {
          "output_type": "stream",
          "text": [
            "(array([0.        , 1.28571429, 2.57142857, 3.85714286, 5.14285714,\n",
            "       6.42857143, 7.71428571, 9.        ]), 1.2857142857142858)\n"
          ],
          "name": "stdout"
        }
      ]
    },
    {
      "metadata": {
        "id": "Cux_I17x7jK4",
        "colab_type": "code",
        "colab": {
          "base_uri": "https://localhost:8080/",
          "height": 34
        },
        "outputId": "0b8c7683-6308-4a5d-bf0b-0802505119c8"
      },
      "cell_type": "code",
      "source": [
        "#np.logspace : This function returns ndarray object which contains numbers \n",
        "# that are evenly spaced on a log scale\n",
        "\n",
        "a = np.logspace(1,10,num=10,base=2)\n",
        "print(a)"
      ],
      "execution_count": 0,
      "outputs": [
        {
          "output_type": "stream",
          "text": [
            "[   2.    4.    8.   16.   32.   64.  128.  256.  512. 1024.]\n"
          ],
          "name": "stdout"
        }
      ]
    },
    {
      "metadata": {
        "id": "-DZc2JXzBYL_",
        "colab_type": "code",
        "colab": {
          "base_uri": "https://localhost:8080/",
          "height": 119
        },
        "outputId": "cf19dcfd-f128-4d38-c6a3-8ed2d8efd397"
      },
      "cell_type": "code",
      "source": [
        "#slicing, (Basic, field access, advanced indexing)\n",
        "\n",
        "a = np.arange(14)\n",
        "b = slice(2,9,2)\n",
        "print(a[b])\n",
        "\n",
        "\n",
        "#example 1:\n",
        "\n",
        "c = np.array([[1,2,3],[3,4,5],[4,5,6]])\n",
        "print(c[...,1])\n",
        "print(c[1,...])\n",
        "print(c[...,1:])"
      ],
      "execution_count": 0,
      "outputs": [
        {
          "output_type": "stream",
          "text": [
            "[2 4 6 8]\n",
            "[2 4 5]\n",
            "[3 4 5]\n",
            "[[2 3]\n",
            " [4 5]\n",
            " [5 6]]\n"
          ],
          "name": "stdout"
        }
      ]
    },
    {
      "metadata": {
        "id": "OwdM1iXYRnmQ",
        "colab_type": "code",
        "colab": {
          "base_uri": "https://localhost:8080/",
          "height": 85
        },
        "outputId": "7e46d201-b167-4545-de4b-aa4dd2b4c87c"
      },
      "cell_type": "code",
      "source": [
        "#Advance indexing\n",
        "\n",
        "a = np.array([[4,3],[5,6],[7,9]])\n",
        "\n",
        "print(a)\n",
        "\n",
        "print(a[[0,2],[1,1]])"
      ],
      "execution_count": 0,
      "outputs": [
        {
          "output_type": "stream",
          "text": [
            "[[4 3]\n",
            " [5 6]\n",
            " [7 9]]\n",
            "[3 9]\n"
          ],
          "name": "stdout"
        }
      ]
    },
    {
      "metadata": {
        "id": "t52Jql94SnT7",
        "colab_type": "code",
        "colab": {
          "base_uri": "https://localhost:8080/",
          "height": 170
        },
        "outputId": "5586b978-8a4d-4e08-f7fc-67840ed15fba"
      },
      "cell_type": "code",
      "source": [
        "x = np.array([[ 0,  1,  2],[ 3,  4,  5],[ 6,  7,  8],[ 9, 10, 11]]) \n",
        "\n",
        "pp(x)\n",
        "\n",
        "rows = np.array([[0,0],[3,3]])\n",
        "cols = np.array([[0,1],[0,2]])\n",
        "y = x[rows,cols]\n",
        "\n",
        "pp(y)\n",
        "\n",
        "z = x[1:4,1:3]\n",
        "k = x[1:4,[0,2]]\n",
        "\n",
        "pp(k)"
      ],
      "execution_count": 0,
      "outputs": [
        {
          "output_type": "stream",
          "text": [
            "array([[ 0,  1,  2],\n",
            "       [ 3,  4,  5],\n",
            "       [ 6,  7,  8],\n",
            "       [ 9, 10, 11]])\n",
            "array([[ 0,  1],\n",
            "       [ 9, 11]])\n",
            "array([[ 3,  5],\n",
            "       [ 6,  8],\n",
            "       [ 9, 11]])\n"
          ],
          "name": "stdout"
        }
      ]
    },
    {
      "metadata": {
        "id": "UFA7lrXRWLjC",
        "colab_type": "code",
        "colab": {
          "base_uri": "https://localhost:8080/",
          "height": 102
        },
        "outputId": "ab62966a-9ede-45a7-ef0d-b95744a3e108"
      },
      "cell_type": "code",
      "source": [
        "#Boolean Array Indexing\n",
        "\n",
        "x = np.array([[ 0,  1,  2],[ 3,  4,  5],[ 6,  7,  8],[ 9, 10, 11]])\n",
        "\n",
        "pp(x)\n",
        "\n",
        "pp(x[x>4])"
      ],
      "execution_count": 0,
      "outputs": [
        {
          "output_type": "stream",
          "text": [
            "array([[ 0,  1,  2],\n",
            "       [ 3,  4,  5],\n",
            "       [ 6,  7,  8],\n",
            "       [ 9, 10, 11]])\n",
            "array([ 5,  6,  7,  8,  9, 10, 11])\n"
          ],
          "name": "stdout"
        }
      ]
    },
    {
      "metadata": {
        "id": "sBecntSWW1WA",
        "colab_type": "code",
        "colab": {
          "base_uri": "https://localhost:8080/",
          "height": 34
        },
        "outputId": "5e8a6f9a-9a17-422b-9ccf-d07c6bca51ba"
      },
      "cell_type": "code",
      "source": [
        "''' ~ is a complement operator. and using iscomplex method will filter\n",
        "complex numbers\n",
        "In this example, NaN (Not a Number) elements are \n",
        "omitted by using ~ (complement operator).\n",
        "'''\n",
        "a = np.array([np.nan, 1,2,np.nan,3,4,5]) \n",
        "pp(a[~np.isnan(a)])"
      ],
      "execution_count": 0,
      "outputs": [
        {
          "output_type": "stream",
          "text": [
            "array([1., 2., 3., 4., 5.])\n"
          ],
          "name": "stdout"
        }
      ]
    },
    {
      "metadata": {
        "id": "OZmOrSCnZrMk",
        "colab_type": "code",
        "colab": {
          "base_uri": "https://localhost:8080/",
          "height": 51
        },
        "outputId": "e72e2324-9325-4e2b-c5ee-7cdc57fc7ff7"
      },
      "cell_type": "code",
      "source": [
        "#Broadcasting\n",
        "#broadcasting refers to the ability of NumPy to treat arrays of different\n",
        "#shapes during arithmetic operations.\n",
        "\n",
        "#For same size arrays is very easy to do arithmetic operations\n",
        "#But for different size of arrays we need to \n",
        "a = np.array([[1,2,4],[5,2,5]])\n",
        "b = np.array([[4,5,6],[1,8,34]])\n",
        "\n",
        "c = a*b\n",
        "\n",
        "pp(c)"
      ],
      "execution_count": 0,
      "outputs": [
        {
          "output_type": "stream",
          "text": [
            "array([[  4,  10,  24],\n",
            "       [  5,  16, 170]])\n"
          ],
          "name": "stdout"
        }
      ]
    },
    {
      "metadata": {
        "id": "V7YXLjgsa91o",
        "colab_type": "code",
        "colab": {
          "base_uri": "https://localhost:8080/",
          "height": 34
        },
        "outputId": "115f12f8-e068-4db0-d700-3343e7992bc9"
      },
      "cell_type": "code",
      "source": [
        "#Numpy learning once again. \n",
        "\n",
        "import numpy as np\n",
        "np.__version__\n",
        "\n",
        "a = np.arange(12)\n",
        "print(a)"
      ],
      "execution_count": 7,
      "outputs": [
        {
          "output_type": "stream",
          "text": [
            "[ 0  1  2  3  4  5  6  7  8  9 10 11]\n"
          ],
          "name": "stdout"
        }
      ]
    },
    {
      "metadata": {
        "id": "7_oyeqXgrDll",
        "colab_type": "code",
        "colab": {
          "base_uri": "https://localhost:8080/",
          "height": 68
        },
        "outputId": "6c2dba7b-2a8d-4e6b-b619-57789471fa1c"
      },
      "cell_type": "code",
      "source": [
        "a = a.reshape(3,4)\n",
        "\n",
        "print(a)"
      ],
      "execution_count": 8,
      "outputs": [
        {
          "output_type": "stream",
          "text": [
            "[[ 0  1  2  3]\n",
            " [ 4  5  6  7]\n",
            " [ 8  9 10 11]]\n"
          ],
          "name": "stdout"
        }
      ]
    },
    {
      "metadata": {
        "id": "i5nZT-19rQ2V",
        "colab_type": "code",
        "colab": {
          "base_uri": "https://localhost:8080/",
          "height": 34
        },
        "outputId": "f0400b15-b197-4a12-c603-6265346a4148"
      },
      "cell_type": "code",
      "source": [
        "a.shape\n",
        "a.size\n",
        "a.itemsize"
      ],
      "execution_count": 11,
      "outputs": [
        {
          "output_type": "execute_result",
          "data": {
            "text/plain": [
              "8"
            ]
          },
          "metadata": {
            "tags": []
          },
          "execution_count": 11
        }
      ]
    },
    {
      "metadata": {
        "id": "9BsXms-JuBr8",
        "colab_type": "code",
        "colab": {
          "base_uri": "https://localhost:8080/",
          "height": 34
        },
        "outputId": "42a56dbf-b2f8-41c0-d08f-1e07aa0aa378"
      },
      "cell_type": "code",
      "source": [
        "a = np.array([2,3,4])\n",
        "type(a)"
      ],
      "execution_count": 12,
      "outputs": [
        {
          "output_type": "execute_result",
          "data": {
            "text/plain": [
              "numpy.ndarray"
            ]
          },
          "metadata": {
            "tags": []
          },
          "execution_count": 12
        }
      ]
    }
  ]
}
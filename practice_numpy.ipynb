{
  "nbformat": 4,
  "nbformat_minor": 0,
  "metadata": {
    "colab": {
      "name": "practice numpy.ipynb",
      "version": "0.3.2",
      "provenance": [],
      "include_colab_link": true
    },
    "kernelspec": {
      "name": "python3",
      "display_name": "Python 3"
    }
  },
  "cells": [
    {
      "cell_type": "markdown",
      "metadata": {
        "id": "view-in-github",
        "colab_type": "text"
      },
      "source": [
        "[View in Colaboratory](https://colab.research.google.com/github/princekiran/EliteExports/blob/master/practice_numpy.ipynb)"
      ]
    },
    {
      "metadata": {
        "id": "u9hJQ6QHrWv5",
        "colab_type": "code",
        "colab": {
          "base_uri": "https://localhost:8080/",
          "height": 34
        },
        "outputId": "c75e74f1-f54c-4442-d03a-7bd96f570c42"
      },
      "cell_type": "code",
      "source": [
        "import numpy as np\n",
        "np.__version__\n",
        "\n",
        "\n",
        "student = np.dtype([('name','S20'), ('age', 'b1'), ('marks', 'f4')]) \n",
        "a = np.array([('abc', 21, 50),('xyz', 18, 75)], dtype = student) \n",
        "print(a['age'],a['marks'])"
      ],
      "execution_count": 1,
      "outputs": [
        {
          "output_type": "stream",
          "text": [
            "[ True  True] [50. 75.]\n"
          ],
          "name": "stdout"
        }
      ]
    },
    {
      "metadata": {
        "id": "1YsTa-aL-qmq",
        "colab_type": "code",
        "colab": {
          "base_uri": "https://localhost:8080/",
          "height": 68
        },
        "outputId": "84a58a62-d026-4ed8-e46b-27bbc35bb425"
      },
      "cell_type": "code",
      "source": [
        "k = np.array([[1,2,3],[4,5,6]])\n",
        "k.shape = (3,2)\n",
        "k"
      ],
      "execution_count": 2,
      "outputs": [
        {
          "output_type": "execute_result",
          "data": {
            "text/plain": [
              "array([[1, 2],\n",
              "       [3, 4],\n",
              "       [5, 6]])"
            ]
          },
          "metadata": {
            "tags": []
          },
          "execution_count": 2
        }
      ]
    },
    {
      "metadata": {
        "id": "QPe6Gw8xGRDK",
        "colab_type": "code",
        "colab": {
          "base_uri": "https://localhost:8080/",
          "height": 255
        },
        "outputId": "968039e4-bfed-4176-a742-d710dc35f02d"
      },
      "cell_type": "code",
      "source": [
        "a = np.arange(24)\n",
        "print(a.flags)\n",
        "k = a.reshape(2,4,3)\n",
        "k.flags"
      ],
      "execution_count": 24,
      "outputs": [
        {
          "output_type": "stream",
          "text": [
            "  C_CONTIGUOUS : True\n",
            "  F_CONTIGUOUS : True\n",
            "  OWNDATA : True\n",
            "  WRITEABLE : True\n",
            "  ALIGNED : True\n",
            "  WRITEBACKIFCOPY : False\n",
            "  UPDATEIFCOPY : False\n"
          ],
          "name": "stdout"
        },
        {
          "output_type": "execute_result",
          "data": {
            "text/plain": [
              "  C_CONTIGUOUS : True\n",
              "  F_CONTIGUOUS : False\n",
              "  OWNDATA : False\n",
              "  WRITEABLE : True\n",
              "  ALIGNED : True\n",
              "  WRITEBACKIFCOPY : False\n",
              "  UPDATEIFCOPY : False"
            ]
          },
          "metadata": {
            "tags": []
          },
          "execution_count": 24
        }
      ]
    },
    {
      "metadata": {
        "id": "C5CAmtfN_bRu",
        "colab_type": "code",
        "colab": {
          "base_uri": "https://localhost:8080/",
          "height": 68
        },
        "outputId": "5d620632-86f2-46d2-ade9-7146b25ef08a"
      },
      "cell_type": "code",
      "source": [
        "b = np.zeros([3,2],dtype=[('x','i4'),('y','i4')])\n",
        "print(b)"
      ],
      "execution_count": 28,
      "outputs": [
        {
          "output_type": "stream",
          "text": [
            "[[(0, 0) (0, 0)]\n",
            " [(0, 0) (0, 0)]\n",
            " [(0, 0) (0, 0)]]\n"
          ],
          "name": "stdout"
        }
      ]
    },
    {
      "metadata": {
        "id": "8zc-BmF9B0Fw",
        "colab_type": "code",
        "colab": {
          "base_uri": "https://localhost:8080/",
          "height": 34
        },
        "outputId": "1105c451-b477-4287-e74f-735a16c4530a"
      },
      "cell_type": "code",
      "source": [
        "x = (1,2,3)\n",
        "c = np.array(x)\n",
        "print(c)"
      ],
      "execution_count": 29,
      "outputs": [
        {
          "output_type": "stream",
          "text": [
            "[1 2 3]\n"
          ],
          "name": "stdout"
        }
      ]
    }
  ]
}
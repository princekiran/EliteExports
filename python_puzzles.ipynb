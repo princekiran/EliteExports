{
  "nbformat": 4,
  "nbformat_minor": 0,
  "metadata": {
    "colab": {
      "name": "python_puzzles.ipynb",
      "version": "0.3.2",
      "provenance": [],
      "collapsed_sections": [],
      "include_colab_link": true
    },
    "kernelspec": {
      "name": "python3",
      "display_name": "Python 3"
    }
  },
  "cells": [
    {
      "cell_type": "markdown",
      "metadata": {
        "id": "view-in-github",
        "colab_type": "text"
      },
      "source": [
        "<a href=\"https://colab.research.google.com/github/princekiran/EliteExports/blob/master/python_puzzles.ipynb\" target=\"_parent\"><img src=\"https://colab.research.google.com/assets/colab-badge.svg\" alt=\"Open In Colab\"/></a>"
      ]
    },
    {
      "metadata": {
        "id": "rT_D0LvuP2RW",
        "colab_type": "code",
        "outputId": "c4352dbc-6d77-4690-900e-6958879caad6",
        "colab": {
          "base_uri": "https://localhost:8080/",
          "height": 51
        }
      },
      "cell_type": "code",
      "source": [
        "import numpy as np\n",
        "import matplotlib.pyplot as plt\n",
        "import pandas as pd\n",
        "\n",
        "#Importing the dataset\n",
        "dataset = pd.read_csv('Data.csv')\n",
        "X = dataset.iloc[:, :-1].values\n",
        "y = dataset.iloc[:, 3].values\n",
        "\n",
        "#Taking care of missing data\n",
        "from sklearn.preprocessing import Imputer\n",
        "imputer = Imputer(missing_values = 'Nan', strategy = 'mean', axis = 0)\n"
      ],
      "execution_count": 10,
      "outputs": [
        {
          "output_type": "execute_result",
          "data": {
            "text/plain": [
              "array(['No', 'Yes', 'No', 'No', 'Yes', 'Yes', 'No', 'Yes', 'No', 'Yes'],\n",
              "      dtype=object)"
            ]
          },
          "metadata": {
            "tags": []
          },
          "execution_count": 10
        }
      ]
    },
    {
      "metadata": {
        "id": "0CD8wOpdSk72",
        "colab_type": "code",
        "colab": {
          "base_uri": "https://localhost:8080/",
          "height": 2672
        },
        "outputId": "31090c12-0d11-4b6a-ad9c-3e3c86420ca8"
      },
      "cell_type": "code",
      "source": [
        "from sklearn.preprocessing import Imputer\n",
        "help(Imputer)"
      ],
      "execution_count": 12,
      "outputs": [
        {
          "output_type": "stream",
          "text": [
            "Help on class Imputer in module sklearn.preprocessing.imputation:\n",
            "\n",
            "class Imputer(sklearn.base.BaseEstimator, sklearn.base.TransformerMixin)\n",
            " |  Imputation transformer for completing missing values.\n",
            " |  \n",
            " |  Read more in the :ref:`User Guide <imputation>`.\n",
            " |  \n",
            " |  Parameters\n",
            " |  ----------\n",
            " |  missing_values : integer or \"NaN\", optional (default=\"NaN\")\n",
            " |      The placeholder for the missing values. All occurrences of\n",
            " |      `missing_values` will be imputed. For missing values encoded as np.nan,\n",
            " |      use the string value \"NaN\".\n",
            " |  \n",
            " |  strategy : string, optional (default=\"mean\")\n",
            " |      The imputation strategy.\n",
            " |  \n",
            " |      - If \"mean\", then replace missing values using the mean along\n",
            " |        the axis.\n",
            " |      - If \"median\", then replace missing values using the median along\n",
            " |        the axis.\n",
            " |      - If \"most_frequent\", then replace missing using the most frequent\n",
            " |        value along the axis.\n",
            " |  \n",
            " |  axis : integer, optional (default=0)\n",
            " |      The axis along which to impute.\n",
            " |  \n",
            " |      - If `axis=0`, then impute along columns.\n",
            " |      - If `axis=1`, then impute along rows.\n",
            " |  \n",
            " |  verbose : integer, optional (default=0)\n",
            " |      Controls the verbosity of the imputer.\n",
            " |  \n",
            " |  copy : boolean, optional (default=True)\n",
            " |      If True, a copy of X will be created. If False, imputation will\n",
            " |      be done in-place whenever possible. Note that, in the following cases,\n",
            " |      a new copy will always be made, even if `copy=False`:\n",
            " |  \n",
            " |      - If X is not an array of floating values;\n",
            " |      - If X is sparse and `missing_values=0`;\n",
            " |      - If `axis=0` and X is encoded as a CSR matrix;\n",
            " |      - If `axis=1` and X is encoded as a CSC matrix.\n",
            " |  \n",
            " |  Attributes\n",
            " |  ----------\n",
            " |  statistics_ : array of shape (n_features,)\n",
            " |      The imputation fill value for each feature if axis == 0.\n",
            " |  \n",
            " |  Notes\n",
            " |  -----\n",
            " |  - When ``axis=0``, columns which only contained missing values at `fit`\n",
            " |    are discarded upon `transform`.\n",
            " |  - When ``axis=1``, an exception is raised if there are rows for which it is\n",
            " |    not possible to fill in the missing values (e.g., because they only\n",
            " |    contain missing values).\n",
            " |  \n",
            " |  Method resolution order:\n",
            " |      Imputer\n",
            " |      sklearn.base.BaseEstimator\n",
            " |      sklearn.base.TransformerMixin\n",
            " |      builtins.object\n",
            " |  \n",
            " |  Methods defined here:\n",
            " |  \n",
            " |  __init__(*args, **kwargs)\n",
            " |      DEPRECATED: Imputer was deprecated in version 0.20 and will be removed in 0.22. Import impute.SimpleImputer from sklearn instead.\n",
            " |  \n",
            " |  fit(self, X, y=None)\n",
            " |      Fit the imputer on X.\n",
            " |      \n",
            " |      Parameters\n",
            " |      ----------\n",
            " |      X : {array-like, sparse matrix}, shape (n_samples, n_features)\n",
            " |          Input data, where ``n_samples`` is the number of samples and\n",
            " |          ``n_features`` is the number of features.\n",
            " |      \n",
            " |      Returns\n",
            " |      -------\n",
            " |      self : Imputer\n",
            " |  \n",
            " |  transform(self, X)\n",
            " |      Impute all missing values in X.\n",
            " |      \n",
            " |      Parameters\n",
            " |      ----------\n",
            " |      X : {array-like, sparse matrix}, shape = [n_samples, n_features]\n",
            " |          The input data to complete.\n",
            " |  \n",
            " |  ----------------------------------------------------------------------\n",
            " |  Methods inherited from sklearn.base.BaseEstimator:\n",
            " |  \n",
            " |  __getstate__(self)\n",
            " |  \n",
            " |  __repr__(self)\n",
            " |      Return repr(self).\n",
            " |  \n",
            " |  __setstate__(self, state)\n",
            " |  \n",
            " |  get_params(self, deep=True)\n",
            " |      Get parameters for this estimator.\n",
            " |      \n",
            " |      Parameters\n",
            " |      ----------\n",
            " |      deep : boolean, optional\n",
            " |          If True, will return the parameters for this estimator and\n",
            " |          contained subobjects that are estimators.\n",
            " |      \n",
            " |      Returns\n",
            " |      -------\n",
            " |      params : mapping of string to any\n",
            " |          Parameter names mapped to their values.\n",
            " |  \n",
            " |  set_params(self, **params)\n",
            " |      Set the parameters of this estimator.\n",
            " |      \n",
            " |      The method works on simple estimators as well as on nested objects\n",
            " |      (such as pipelines). The latter have parameters of the form\n",
            " |      ``<component>__<parameter>`` so that it's possible to update each\n",
            " |      component of a nested object.\n",
            " |      \n",
            " |      Returns\n",
            " |      -------\n",
            " |      self\n",
            " |  \n",
            " |  ----------------------------------------------------------------------\n",
            " |  Data descriptors inherited from sklearn.base.BaseEstimator:\n",
            " |  \n",
            " |  __dict__\n",
            " |      dictionary for instance variables (if defined)\n",
            " |  \n",
            " |  __weakref__\n",
            " |      list of weak references to the object (if defined)\n",
            " |  \n",
            " |  ----------------------------------------------------------------------\n",
            " |  Methods inherited from sklearn.base.TransformerMixin:\n",
            " |  \n",
            " |  fit_transform(self, X, y=None, **fit_params)\n",
            " |      Fit to data, then transform it.\n",
            " |      \n",
            " |      Fits transformer to X and y with optional parameters fit_params\n",
            " |      and returns a transformed version of X.\n",
            " |      \n",
            " |      Parameters\n",
            " |      ----------\n",
            " |      X : numpy array of shape [n_samples, n_features]\n",
            " |          Training set.\n",
            " |      \n",
            " |      y : numpy array of shape [n_samples]\n",
            " |          Target values.\n",
            " |      \n",
            " |      Returns\n",
            " |      -------\n",
            " |      X_new : numpy array of shape [n_samples, n_features_new]\n",
            " |          Transformed array.\n",
            "\n"
          ],
          "name": "stdout"
        }
      ]
    },
    {
      "metadata": {
        "id": "YhqIhKFiS2me",
        "colab_type": "code",
        "colab": {}
      },
      "cell_type": "code",
      "source": [
        ""
      ],
      "execution_count": 0,
      "outputs": []
    },
    {
      "metadata": {
        "id": "YdRoLRwTTncQ",
        "colab_type": "code",
        "colab": {}
      },
      "cell_type": "code",
      "source": [
        ""
      ],
      "execution_count": 0,
      "outputs": []
    },
    {
      "metadata": {
        "id": "xMfeLKMvcHr9",
        "colab_type": "code",
        "colab": {}
      },
      "cell_type": "code",
      "source": [
        ""
      ],
      "execution_count": 0,
      "outputs": []
    }
  ]
}